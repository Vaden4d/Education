{
  "cells": [
    {
      "metadata": {
        "trusted": true,
        "_uuid": "778ed5e040e1721ab23a9e08ba4639816f8e839e"
      },
      "cell_type": "code",
      "source": "import pandas as pd\nimport os\nimport numpy as np\nimport matplotlib.pyplot as plt\nfrom PIL import Image\n%matplotlib inline",
      "execution_count": 10,
      "outputs": []
    },
    {
      "metadata": {
        "trusted": true,
        "_uuid": "0515806712d2ab56624a14413e2932bd4a828574"
      },
      "cell_type": "code",
      "source": "from keras.preprocessing.image import ImageDataGenerator\nfrom keras.models import Model, Sequential, load_model\nfrom keras.layers import Lambda, Activation, Dropout, Flatten, Dense, GlobalMaxPooling2D, BatchNormalization, Input, Conv2D\nfrom keras.applications.inception_v3 import InceptionV3\nfrom keras.callbacks import ModelCheckpoint, LearningRateScheduler, EarlyStopping, ReduceLROnPlateau\nfrom keras import metrics\nfrom keras.optimizers import Adam \nfrom keras import backend as K\nfrom keras.layers import Activation, Dropout, Flatten, Dense, Input, Conv2D, MaxPooling2D, BatchNormalization, Concatenate, ReLU, LeakyReLU",
      "execution_count": 40,
      "outputs": []
    },
    {
      "metadata": {
        "trusted": true,
        "_uuid": "f39f479f521430713d5d284d768738e86a297a3e"
      },
      "cell_type": "code",
      "source": "from sklearn.model_selection import train_test_split",
      "execution_count": 12,
      "outputs": []
    },
    {
      "metadata": {
        "_uuid": "a6dc8976fe9bfc96348f73d609221ececfcfab74"
      },
      "cell_type": "markdown",
      "source": "## Data donwloading and preprocessing"
    },
    {
      "metadata": {
        "trusted": true,
        "_uuid": "dd806c0f6c604069a244d783efd21db79730304a"
      },
      "cell_type": "code",
      "source": "metadata = pd.read_csv('../input/human-protein-atlas-image-classification/train.csv')\nmetadata = metadata.rename(columns={'Id': 'id', 'Target': 'target'})\n\nsubmission = pd.read_csv('../input/human-protein-atlas-image-classification/sample_submission.csv')\nsubmission = submission.rename(columns={'Id': 'id', 'Target': 'target'})",
      "execution_count": 13,
      "outputs": []
    },
    {
      "metadata": {
        "trusted": true,
        "_uuid": "f162deea7ac11cdf67ccbaac905fb0803fdca6cf"
      },
      "cell_type": "code",
      "source": "labels = {\n    '0' : 'Nucleoplasm', \n    '1' : 'Nuclear membrane',   \n    '2' : 'Nucleoli', \n    '3' : 'Nucleoli fibrillar center',   \n    '4' : 'Nuclear speckles',   \n    '5' : 'Nuclear bodies',   \n    '6' : 'Endoplasmic reticulum',   \n    '7' : 'Golgi apparatus',   \n    '8' : 'Peroxisomes',   \n    '9' : 'Endosomes',   \n    '10' : 'Lysosomes',   \n    '11' : 'Intermediate filaments',   \n    '12' : 'Actin filaments',   \n    '13' : 'Focal adhesion sites',  \n    '14' : 'Microtubules',   \n    '15' : 'Microtubule ends',   \n    '16' : 'Cytokinetic bridge',   \n    '17' : 'Mitotic spindle',   \n    '18' : 'Microtubule organizing center',   \n    '19' : 'Centrosome',   \n    '20' : 'Lipid droplets',   \n    '21' : 'Plasma membrane',   \n    '22' : 'Cell junctions',   \n    '23' : 'Mitochondria',   \n    '24' : 'Aggresome',   \n    '25' : 'Cytosol',   \n    '26' : 'Cytoplasmic bodies',   \n    '27' : 'Rods & rings',  \n}\n\nchannels = {\n    0: 'Microtubules',\n    1: 'Nucleus',\n    2: 'Protein',\n    3: 'Endoplasmic reticulum'\n}\n\nchannels_marker = {\n    0: 'Red',\n    1: 'Blue',\n    2: 'Green',\n    3: 'Yellow'\n}\n\ncmap_markers = {\n    0: 'Reds',\n    1: 'Blues',\n    2: 'Greens',\n    3: 'YlOrBr'\n}",
      "execution_count": 14,
      "outputs": []
    },
    {
      "metadata": {
        "trusted": true,
        "_uuid": "81d8a7de71f21a233c8833734c7926c36604410e"
      },
      "cell_type": "code",
      "source": "metadata = pd.concat([metadata, \n           pd.get_dummies(metadata.target.apply(lambda x: x.split()).apply(pd.Series).stack()).sum(level=0).sort_index(axis=1)],\n         axis=1)\nmetadata = metadata.drop(columns='target')\nmetadata = metadata.rename(columns=labels)",
      "execution_count": 15,
      "outputs": []
    },
    {
      "metadata": {
        "trusted": true,
        "_uuid": "99c48e4b1d816fed58fa494de79f3c269f1e6dd2"
      },
      "cell_type": "code",
      "source": "def download_data(names, folder='train'):\n    data = []\n    for name in names:\n        full_name = os.path.join(os.getcwd(), folder, name)\n        image_red = np.array(Image.open(full_name + '_red.png'))\n        image_blue = np.array(Image.open(full_name + '_blue.png'))\n        image_green = np.array(Image.open(full_name + '_green.png'))\n        image_yellow= np.array(Image.open(full_name + '_yellow.png'))\n        image = np.dstack((image_red, image_blue, image_green, image_yellow))\n        data.append(image)\n    data = np.array(data)\n    return data\n\ndef labels_to_str(labels_tensor, mapping=labels):\n    '''labels_tensor - batch_size x 27 matrix with labels'''\n    '''result: string view of the labels'''\n    result = map(lambda x: '\\n'.join(list(map(lambda y: mapping[y], \n                                               np.where(x == 1)[0].astype(str)))), \n                 labels_tensor)\n    result = list(result)\n    return result \n\ndef generate_batch(batch_size=3, metadata=metadata):\n    n_batches = np.ceil(metadata.shape[0] / batch_size).astype(int)\n    for i in range(n_batches):\n        labels = metadata.iloc[i*(batch_size): (i+1)*batch_size].iloc[:, 1:].values\n        names = metadata.iloc[i*(batch_size): (i+1)*batch_size].id\n        yield download_data(names), labels\n        \ndef plot_samples(data):\n    samples, labels = data\n    labels_str = labels_to_str(labels)\n    n_samples = samples.shape[0]\n    n_channels = samples.shape[-1]\n    fig, axes = plt.subplots(n_samples, n_channels+1, figsize=(16, 16))\n    for i in range(n_samples):\n        for j in range(n_channels):\n            axes[i, j].set_title(labels_str[i])\n            axes[i, j].set(xlabel=channels[j], ylabel=channels_marker[j])\n            axes[i, j].imshow(samples[i, :, :, j], cmap=cmap_markers[j])\n        axes[i, n_channels].set_title('RGB image')\n        axes[i, n_channels].imshow(samples[i, :, :, :-1])\n        \ndef plot_rgb(data):\n    samples, labels = data\n    labels_str = labels_to_str(labels)\n    n_samples = samples.shape[0]\n    fig, axes = plt.subplots(1, n_samples, figsize=(16, 16))\n    for j in range(n_samples):\n        axes[j].set_title(labels_str[j])\n        axes[j].set(xlabel='RGB')\n        axes[j].imshow(samples[j, :, :, :-1])",
      "execution_count": 16,
      "outputs": []
    },
    {
      "metadata": {
        "trusted": true,
        "_uuid": "b4566f16d14a3f8027daab3e9395ade29db9494b"
      },
      "cell_type": "code",
      "source": "gen = generate_batch(batch_size=3)",
      "execution_count": 17,
      "outputs": []
    },
    {
      "metadata": {
        "trusted": true,
        "_uuid": "ec13675e4e5c06182b92d5fbc3d61296b4122052"
      },
      "cell_type": "code",
      "source": "data = next(gen)\nplot_samples(data)",
      "execution_count": 18,
      "outputs": [
        {
          "output_type": "error",
          "ename": "FileNotFoundError",
          "evalue": "[Errno 2] No such file or directory: '/kaggle/working/train/00070df0-bbc3-11e8-b2bc-ac1f6b6435d0_red.png'",
          "traceback": [
            "\u001b[0;31m---------------------------------------------------------------------------\u001b[0m",
            "\u001b[0;31mFileNotFoundError\u001b[0m                         Traceback (most recent call last)",
            "\u001b[0;32m<ipython-input-18-1a73d22aa57c>\u001b[0m in \u001b[0;36m<module>\u001b[0;34m\u001b[0m\n\u001b[0;32m----> 1\u001b[0;31m \u001b[0mdata\u001b[0m \u001b[0;34m=\u001b[0m \u001b[0mnext\u001b[0m\u001b[0;34m(\u001b[0m\u001b[0mgen\u001b[0m\u001b[0;34m)\u001b[0m\u001b[0;34m\u001b[0m\u001b[0m\n\u001b[0m\u001b[1;32m      2\u001b[0m \u001b[0mplot_samples\u001b[0m\u001b[0;34m(\u001b[0m\u001b[0mdata\u001b[0m\u001b[0;34m)\u001b[0m\u001b[0;34m\u001b[0m\u001b[0m\n",
            "\u001b[0;32m<ipython-input-16-93f6c3988e59>\u001b[0m in \u001b[0;36mgenerate_batch\u001b[0;34m(batch_size, metadata)\u001b[0m\n\u001b[1;32m     26\u001b[0m         \u001b[0mlabels\u001b[0m \u001b[0;34m=\u001b[0m \u001b[0mmetadata\u001b[0m\u001b[0;34m.\u001b[0m\u001b[0miloc\u001b[0m\u001b[0;34m[\u001b[0m\u001b[0mi\u001b[0m\u001b[0;34m*\u001b[0m\u001b[0;34m(\u001b[0m\u001b[0mbatch_size\u001b[0m\u001b[0;34m)\u001b[0m\u001b[0;34m:\u001b[0m \u001b[0;34m(\u001b[0m\u001b[0mi\u001b[0m\u001b[0;34m+\u001b[0m\u001b[0;36m1\u001b[0m\u001b[0;34m)\u001b[0m\u001b[0;34m*\u001b[0m\u001b[0mbatch_size\u001b[0m\u001b[0;34m]\u001b[0m\u001b[0;34m.\u001b[0m\u001b[0miloc\u001b[0m\u001b[0;34m[\u001b[0m\u001b[0;34m:\u001b[0m\u001b[0;34m,\u001b[0m \u001b[0;36m1\u001b[0m\u001b[0;34m:\u001b[0m\u001b[0;34m]\u001b[0m\u001b[0;34m.\u001b[0m\u001b[0mvalues\u001b[0m\u001b[0;34m\u001b[0m\u001b[0m\n\u001b[1;32m     27\u001b[0m         \u001b[0mnames\u001b[0m \u001b[0;34m=\u001b[0m \u001b[0mmetadata\u001b[0m\u001b[0;34m.\u001b[0m\u001b[0miloc\u001b[0m\u001b[0;34m[\u001b[0m\u001b[0mi\u001b[0m\u001b[0;34m*\u001b[0m\u001b[0;34m(\u001b[0m\u001b[0mbatch_size\u001b[0m\u001b[0;34m)\u001b[0m\u001b[0;34m:\u001b[0m \u001b[0;34m(\u001b[0m\u001b[0mi\u001b[0m\u001b[0;34m+\u001b[0m\u001b[0;36m1\u001b[0m\u001b[0;34m)\u001b[0m\u001b[0;34m*\u001b[0m\u001b[0mbatch_size\u001b[0m\u001b[0;34m]\u001b[0m\u001b[0;34m.\u001b[0m\u001b[0mid\u001b[0m\u001b[0;34m\u001b[0m\u001b[0m\n\u001b[0;32m---> 28\u001b[0;31m         \u001b[0;32myield\u001b[0m \u001b[0mdownload_data\u001b[0m\u001b[0;34m(\u001b[0m\u001b[0mnames\u001b[0m\u001b[0;34m)\u001b[0m\u001b[0;34m,\u001b[0m \u001b[0mlabels\u001b[0m\u001b[0;34m\u001b[0m\u001b[0m\n\u001b[0m\u001b[1;32m     29\u001b[0m \u001b[0;34m\u001b[0m\u001b[0m\n\u001b[1;32m     30\u001b[0m \u001b[0;32mdef\u001b[0m \u001b[0mplot_samples\u001b[0m\u001b[0;34m(\u001b[0m\u001b[0mdata\u001b[0m\u001b[0;34m)\u001b[0m\u001b[0;34m:\u001b[0m\u001b[0;34m\u001b[0m\u001b[0m\n",
            "\u001b[0;32m<ipython-input-16-93f6c3988e59>\u001b[0m in \u001b[0;36mdownload_data\u001b[0;34m(names, folder)\u001b[0m\n\u001b[1;32m      3\u001b[0m     \u001b[0;32mfor\u001b[0m \u001b[0mname\u001b[0m \u001b[0;32min\u001b[0m \u001b[0mnames\u001b[0m\u001b[0;34m:\u001b[0m\u001b[0;34m\u001b[0m\u001b[0m\n\u001b[1;32m      4\u001b[0m         \u001b[0mfull_name\u001b[0m \u001b[0;34m=\u001b[0m \u001b[0mos\u001b[0m\u001b[0;34m.\u001b[0m\u001b[0mpath\u001b[0m\u001b[0;34m.\u001b[0m\u001b[0mjoin\u001b[0m\u001b[0;34m(\u001b[0m\u001b[0mos\u001b[0m\u001b[0;34m.\u001b[0m\u001b[0mgetcwd\u001b[0m\u001b[0;34m(\u001b[0m\u001b[0;34m)\u001b[0m\u001b[0;34m,\u001b[0m \u001b[0mfolder\u001b[0m\u001b[0;34m,\u001b[0m \u001b[0mname\u001b[0m\u001b[0;34m)\u001b[0m\u001b[0;34m\u001b[0m\u001b[0m\n\u001b[0;32m----> 5\u001b[0;31m         \u001b[0mimage_red\u001b[0m \u001b[0;34m=\u001b[0m \u001b[0mnp\u001b[0m\u001b[0;34m.\u001b[0m\u001b[0marray\u001b[0m\u001b[0;34m(\u001b[0m\u001b[0mImage\u001b[0m\u001b[0;34m.\u001b[0m\u001b[0mopen\u001b[0m\u001b[0;34m(\u001b[0m\u001b[0mfull_name\u001b[0m \u001b[0;34m+\u001b[0m \u001b[0;34m'_red.png'\u001b[0m\u001b[0;34m)\u001b[0m\u001b[0;34m)\u001b[0m\u001b[0;34m\u001b[0m\u001b[0m\n\u001b[0m\u001b[1;32m      6\u001b[0m         \u001b[0mimage_blue\u001b[0m \u001b[0;34m=\u001b[0m \u001b[0mnp\u001b[0m\u001b[0;34m.\u001b[0m\u001b[0marray\u001b[0m\u001b[0;34m(\u001b[0m\u001b[0mImage\u001b[0m\u001b[0;34m.\u001b[0m\u001b[0mopen\u001b[0m\u001b[0;34m(\u001b[0m\u001b[0mfull_name\u001b[0m \u001b[0;34m+\u001b[0m \u001b[0;34m'_blue.png'\u001b[0m\u001b[0;34m)\u001b[0m\u001b[0;34m)\u001b[0m\u001b[0;34m\u001b[0m\u001b[0m\n\u001b[1;32m      7\u001b[0m         \u001b[0mimage_green\u001b[0m \u001b[0;34m=\u001b[0m \u001b[0mnp\u001b[0m\u001b[0;34m.\u001b[0m\u001b[0marray\u001b[0m\u001b[0;34m(\u001b[0m\u001b[0mImage\u001b[0m\u001b[0;34m.\u001b[0m\u001b[0mopen\u001b[0m\u001b[0;34m(\u001b[0m\u001b[0mfull_name\u001b[0m \u001b[0;34m+\u001b[0m \u001b[0;34m'_green.png'\u001b[0m\u001b[0;34m)\u001b[0m\u001b[0;34m)\u001b[0m\u001b[0;34m\u001b[0m\u001b[0m\n",
            "\u001b[0;32m/opt/conda/lib/python3.6/site-packages/PIL/Image.py\u001b[0m in \u001b[0;36mopen\u001b[0;34m(fp, mode)\u001b[0m\n\u001b[1;32m   2607\u001b[0m \u001b[0;34m\u001b[0m\u001b[0m\n\u001b[1;32m   2608\u001b[0m     \u001b[0;32mif\u001b[0m \u001b[0mfilename\u001b[0m\u001b[0;34m:\u001b[0m\u001b[0;34m\u001b[0m\u001b[0m\n\u001b[0;32m-> 2609\u001b[0;31m         \u001b[0mfp\u001b[0m \u001b[0;34m=\u001b[0m \u001b[0mbuiltins\u001b[0m\u001b[0;34m.\u001b[0m\u001b[0mopen\u001b[0m\u001b[0;34m(\u001b[0m\u001b[0mfilename\u001b[0m\u001b[0;34m,\u001b[0m \u001b[0;34m\"rb\"\u001b[0m\u001b[0;34m)\u001b[0m\u001b[0;34m\u001b[0m\u001b[0m\n\u001b[0m\u001b[1;32m   2610\u001b[0m         \u001b[0mexclusive_fp\u001b[0m \u001b[0;34m=\u001b[0m \u001b[0;32mTrue\u001b[0m\u001b[0;34m\u001b[0m\u001b[0m\n\u001b[1;32m   2611\u001b[0m \u001b[0;34m\u001b[0m\u001b[0m\n",
            "\u001b[0;31mFileNotFoundError\u001b[0m: [Errno 2] No such file or directory: '/kaggle/working/train/00070df0-bbc3-11e8-b2bc-ac1f6b6435d0_red.png'"
          ]
        }
      ]
    },
    {
      "metadata": {
        "_uuid": "9335d2c20610ba51905dd9f52c004d785ca2ac1a"
      },
      "cell_type": "markdown",
      "source": "## Compression"
    },
    {
      "metadata": {
        "trusted": false,
        "_uuid": "95cea6cc5108dec0739bcb02a3c6e2ad8b1d39af"
      },
      "cell_type": "code",
      "source": "import cv2\nfrom zipfile import ZipFile, ZIP_DEFLATED\nfrom scipy.misc import imresize",
      "execution_count": null,
      "outputs": []
    },
    {
      "metadata": {
        "trusted": false,
        "_uuid": "777c0d007b2f915162fedbdcdce5c1c92d16944c"
      },
      "cell_type": "code",
      "source": "os.mkdir('train_comp')\nos.mkdir('test_comp')",
      "execution_count": null,
      "outputs": []
    },
    {
      "metadata": {
        "trusted": false,
        "_uuid": "66636398e2830ac4c26872f08d39f7e1b24d8e82"
      },
      "cell_type": "code",
      "source": "images = []\nfor name in metadata.id:\n    \n    image = download_data([name], folder='train')\n    image = imresize(image[0, :, :, :], size=(128, 128), interp='bilinear')\n\n    images.append(image)\n\nimages = np.array(images)\nnp.save('train_compressed.npy', images)",
      "execution_count": null,
      "outputs": []
    },
    {
      "metadata": {
        "trusted": false,
        "_uuid": "317359648f3a81cb24f88390c293c19fa63013ab"
      },
      "cell_type": "code",
      "source": "images = []\nfor i, name in enumerate(submission.id):\n    \n    if i % 1000 == 0:\n        print(i)\n        \n    image = download_data([name], folder='test')\n    image = imresize(image[0, :, :, :], size=(256, 256), interp='bilinear')\n\n    images.append(image)\n\nimages = np.array(images)\nnp.save('test256.npy', images)",
      "execution_count": null,
      "outputs": []
    },
    {
      "metadata": {
        "trusted": false,
        "_uuid": "9d9f0d4db7972799f34de013ddceab86b02dbd36"
      },
      "cell_type": "code",
      "source": "images = np.load('../input/train128.npy')\nlabels = metadata.iloc[:, 1:].values",
      "execution_count": null,
      "outputs": []
    },
    {
      "metadata": {
        "_uuid": "28e6d8a0b68baae28263a12dbc203f8f310b93cd"
      },
      "cell_type": "markdown",
      "source": "## Data modeling"
    },
    {
      "metadata": {
        "trusted": true,
        "_uuid": "965412b71356e5f452397db7071f4847c3a687ff"
      },
      "cell_type": "code",
      "source": "images = np.load('../input/proteins128/train128.npy') \nlabels = metadata.iloc[:, 1:].values",
      "execution_count": 19,
      "outputs": []
    },
    {
      "metadata": {
        "trusted": true,
        "_uuid": "318db4d53082227f490b3d75763f026fdaaed01e"
      },
      "cell_type": "code",
      "source": "# some basic useless model\ndef create_model(input_shape):\n    \n    dropRate = 0.4\n    \n    init = Input(input_shape)\n    x = Lambda(lambda x: x / 255.0)(init)\n    x = BatchNormalization(axis=-1)(init)\n    x = Conv2D(8, (3, 3))(x)\n    x = ReLU()(x)\n    x = BatchNormalization(axis=-1)(x)\n    x = Conv2D(8, (3, 3))(x)\n    x = ReLU()(x)\n    x = BatchNormalization(axis=-1)(x)\n    x = Conv2D(16, (3, 3))(x)\n    x = ReLU()(x)\n    x = BatchNormalization(axis=-1)(x)\n    x = MaxPooling2D(pool_size=(2, 2))(x)\n    x = Dropout(dropRate)(x)\n    c1 = Conv2D(16, (3, 3), padding='same')(x)\n    c1 = ReLU()(c1)\n    c2 = Conv2D(16, (5, 5), padding='same')(x)\n    c2 = ReLU()(c2)\n    c3 = Conv2D(16, (7, 7), padding='same')(x)\n    c3 = ReLU()(c3)\n    c4 = Conv2D(16, (1, 1), padding='same')(x)\n    c4 = ReLU()(c4)\n    x = Concatenate()([c1, c2, c3, c4])\n    x = BatchNormalization(axis=-1)(x)\n    x = MaxPooling2D(pool_size=(2, 2))(x)\n    x = Dropout(dropRate)(x)\n    x = Conv2D(32, (3, 3))(x)\n    x = ReLU()(x)\n    x = BatchNormalization(axis=-1)(x)\n    x = MaxPooling2D(pool_size=(2, 2))(x)\n    x = Dropout(dropRate)(x)\n    x = Conv2D(64, (3, 3))(x)\n    x = ReLU()(x)\n    x = BatchNormalization(axis=-1)(x)\n    x = MaxPooling2D(pool_size=(2, 2))(x)\n    x = Dropout(dropRate)(x)\n    x = Conv2D(128, (3, 3))(x)\n    x = ReLU()(x)\n    x = BatchNormalization(axis=-1)(x)\n    x = MaxPooling2D(pool_size=(2, 2))(x)\n    x = Dropout(dropRate)(x)\n    #x = Conv2D(256, (1, 1), activation='relu')(x)\n    #x = BatchNormalization(axis=-1)(x)\n    #x = MaxPooling2D(pool_size=(2, 2))(x)\n    #x = Dropout(0.25)(x)\n    x = Flatten()(x)\n    x = Dropout(0.5)(x)\n    x = Dense(28)(x)\n    x = ReLU()(x)\n    x = BatchNormalization(axis=-1)(x)\n    x = Dropout(0.1)(x)\n    x = Dense(28)(x)\n    x = Activation('sigmoid')(x)\n    \n    model = Model(init, x)\n    \n    return model",
      "execution_count": 41,
      "outputs": []
    },
    {
      "metadata": {
        "trusted": true,
        "_uuid": "e7ba9734780a884eaf1544fb65634dd8fbfb2765"
      },
      "cell_type": "code",
      "source": "model = create_model((128, 128, 4))",
      "execution_count": 42,
      "outputs": []
    },
    {
      "metadata": {
        "trusted": true,
        "_uuid": "fa9fdae598a04e85269ace51a7f20ddefc0a731d"
      },
      "cell_type": "code",
      "source": "model.summary()",
      "execution_count": 43,
      "outputs": [
        {
          "output_type": "stream",
          "text": "__________________________________________________________________________________________________\nLayer (type)                    Output Shape         Param #     Connected to                     \n==================================================================================================\ninput_10 (InputLayer)           (None, 128, 128, 4)  0                                            \n__________________________________________________________________________________________________\nbatch_normalization_73 (BatchNo (None, 128, 128, 4)  16          input_10[0][0]                   \n__________________________________________________________________________________________________\nconv2d_81 (Conv2D)              (None, 126, 126, 8)  296         batch_normalization_73[0][0]     \n__________________________________________________________________________________________________\nre_lu_89 (ReLU)                 (None, 126, 126, 8)  0           conv2d_81[0][0]                  \n__________________________________________________________________________________________________\nbatch_normalization_74 (BatchNo (None, 126, 126, 8)  32          re_lu_89[0][0]                   \n__________________________________________________________________________________________________\nconv2d_82 (Conv2D)              (None, 124, 124, 8)  584         batch_normalization_74[0][0]     \n__________________________________________________________________________________________________\nre_lu_90 (ReLU)                 (None, 124, 124, 8)  0           conv2d_82[0][0]                  \n__________________________________________________________________________________________________\nbatch_normalization_75 (BatchNo (None, 124, 124, 8)  32          re_lu_90[0][0]                   \n__________________________________________________________________________________________________\nconv2d_83 (Conv2D)              (None, 122, 122, 16) 1168        batch_normalization_75[0][0]     \n__________________________________________________________________________________________________\nre_lu_91 (ReLU)                 (None, 122, 122, 16) 0           conv2d_83[0][0]                  \n__________________________________________________________________________________________________\nbatch_normalization_76 (BatchNo (None, 122, 122, 16) 64          re_lu_91[0][0]                   \n__________________________________________________________________________________________________\nmax_pooling2d_41 (MaxPooling2D) (None, 61, 61, 16)   0           batch_normalization_76[0][0]     \n__________________________________________________________________________________________________\ndropout_57 (Dropout)            (None, 61, 61, 16)   0           max_pooling2d_41[0][0]           \n__________________________________________________________________________________________________\nconv2d_84 (Conv2D)              (None, 61, 61, 16)   2320        dropout_57[0][0]                 \n__________________________________________________________________________________________________\nconv2d_85 (Conv2D)              (None, 61, 61, 16)   6416        dropout_57[0][0]                 \n__________________________________________________________________________________________________\nconv2d_86 (Conv2D)              (None, 61, 61, 16)   12560       dropout_57[0][0]                 \n__________________________________________________________________________________________________\nconv2d_87 (Conv2D)              (None, 61, 61, 16)   272         dropout_57[0][0]                 \n__________________________________________________________________________________________________\nre_lu_92 (ReLU)                 (None, 61, 61, 16)   0           conv2d_84[0][0]                  \n__________________________________________________________________________________________________\nre_lu_93 (ReLU)                 (None, 61, 61, 16)   0           conv2d_85[0][0]                  \n__________________________________________________________________________________________________\nre_lu_94 (ReLU)                 (None, 61, 61, 16)   0           conv2d_86[0][0]                  \n__________________________________________________________________________________________________\nre_lu_95 (ReLU)                 (None, 61, 61, 16)   0           conv2d_87[0][0]                  \n__________________________________________________________________________________________________\nconcatenate_9 (Concatenate)     (None, 61, 61, 64)   0           re_lu_92[0][0]                   \n                                                                 re_lu_93[0][0]                   \n                                                                 re_lu_94[0][0]                   \n                                                                 re_lu_95[0][0]                   \n__________________________________________________________________________________________________\nbatch_normalization_77 (BatchNo (None, 61, 61, 64)   256         concatenate_9[0][0]              \n__________________________________________________________________________________________________\nmax_pooling2d_42 (MaxPooling2D) (None, 30, 30, 64)   0           batch_normalization_77[0][0]     \n__________________________________________________________________________________________________\ndropout_58 (Dropout)            (None, 30, 30, 64)   0           max_pooling2d_42[0][0]           \n__________________________________________________________________________________________________\nconv2d_88 (Conv2D)              (None, 28, 28, 32)   18464       dropout_58[0][0]                 \n__________________________________________________________________________________________________\nre_lu_96 (ReLU)                 (None, 28, 28, 32)   0           conv2d_88[0][0]                  \n__________________________________________________________________________________________________\nbatch_normalization_78 (BatchNo (None, 28, 28, 32)   128         re_lu_96[0][0]                   \n__________________________________________________________________________________________________\nmax_pooling2d_43 (MaxPooling2D) (None, 14, 14, 32)   0           batch_normalization_78[0][0]     \n__________________________________________________________________________________________________\ndropout_59 (Dropout)            (None, 14, 14, 32)   0           max_pooling2d_43[0][0]           \n__________________________________________________________________________________________________\nconv2d_89 (Conv2D)              (None, 12, 12, 64)   18496       dropout_59[0][0]                 \n__________________________________________________________________________________________________\nre_lu_97 (ReLU)                 (None, 12, 12, 64)   0           conv2d_89[0][0]                  \n__________________________________________________________________________________________________\nbatch_normalization_79 (BatchNo (None, 12, 12, 64)   256         re_lu_97[0][0]                   \n__________________________________________________________________________________________________\nmax_pooling2d_44 (MaxPooling2D) (None, 6, 6, 64)     0           batch_normalization_79[0][0]     \n__________________________________________________________________________________________________\ndropout_60 (Dropout)            (None, 6, 6, 64)     0           max_pooling2d_44[0][0]           \n__________________________________________________________________________________________________\nconv2d_90 (Conv2D)              (None, 4, 4, 128)    73856       dropout_60[0][0]                 \n__________________________________________________________________________________________________\nre_lu_98 (ReLU)                 (None, 4, 4, 128)    0           conv2d_90[0][0]                  \n__________________________________________________________________________________________________\nbatch_normalization_80 (BatchNo (None, 4, 4, 128)    512         re_lu_98[0][0]                   \n__________________________________________________________________________________________________\nmax_pooling2d_45 (MaxPooling2D) (None, 2, 2, 128)    0           batch_normalization_80[0][0]     \n__________________________________________________________________________________________________\ndropout_61 (Dropout)            (None, 2, 2, 128)    0           max_pooling2d_45[0][0]           \n__________________________________________________________________________________________________\nflatten_9 (Flatten)             (None, 512)          0           dropout_61[0][0]                 \n__________________________________________________________________________________________________\ndropout_62 (Dropout)            (None, 512)          0           flatten_9[0][0]                  \n__________________________________________________________________________________________________\ndense_17 (Dense)                (None, 28)           14364       dropout_62[0][0]                 \n__________________________________________________________________________________________________\nre_lu_99 (ReLU)                 (None, 28)           0           dense_17[0][0]                   \n__________________________________________________________________________________________________\nbatch_normalization_81 (BatchNo (None, 28)           112         re_lu_99[0][0]                   \n__________________________________________________________________________________________________\ndropout_63 (Dropout)            (None, 28)           0           batch_normalization_81[0][0]     \n__________________________________________________________________________________________________\ndense_18 (Dense)                (None, 28)           812         dropout_63[0][0]                 \n__________________________________________________________________________________________________\nactivation_9 (Activation)       (None, 28)           0           dense_18[0][0]                   \n==================================================================================================\nTotal params: 151,016\nTrainable params: 150,312\nNon-trainable params: 704\n__________________________________________________________________________________________________\n",
          "name": "stdout"
        }
      ]
    },
    {
      "metadata": {
        "trusted": true,
        "_uuid": "94ae087c9816a9d587e400334b77b27f09345515"
      },
      "cell_type": "code",
      "source": "from tensorflow import where, is_nan, zeros_like, ones_like, equal\ndef f1(y_true, y_pred):\n    y_pred = K.round(y_pred)\n    tp = K.sum(K.cast(y_true*y_pred, 'float'), axis=0)\n    tn = K.sum(K.cast((1-y_true)*(1-y_pred), 'float'), axis=0)\n    fp = K.sum(K.cast((1-y_true)*y_pred, 'float'), axis=0)\n    fn = K.sum(K.cast(y_true*(1-y_pred), 'float'), axis=0)\n\n    p = tp / (tp + fp + K.epsilon())\n    r = tp / (tp + fn + K.epsilon())\n\n    f1 = 2*p*r / (p+r+K.epsilon())\n    f1 = where(is_nan(f1), zeros_like(f1), f1)\n    return K.mean(f1)\n\ndef focal_loss(gamma=2.0, alpha=0.25):\n    def focal_loss_fixed(y_true, y_pred):\n        pt_1 = where(equal(y_true, 1), y_pred, ones_like(y_pred))\n        pt_0 = where(equal(y_true, 0), y_pred, zeros_like(y_pred))\n        return -K.sum(alpha * K.pow(1. - pt_1, gamma) * K.log(pt_1))-K.sum((1-alpha) * K.pow( pt_0, gamma) * K.log(1. - pt_0))\n    return focal_loss_fixed\n\nfl = focal_loss()",
      "execution_count": 44,
      "outputs": []
    },
    {
      "metadata": {
        "trusted": true,
        "_uuid": "65a4ddeff5a40f7b71dab3639b10f2ee875e5e64"
      },
      "cell_type": "code",
      "source": "checkpoint = ModelCheckpoint('InceptionV3.h5', \n                             monitor='val_loss', \n                             verbose=1, \n                             save_best_only=True, \n                             mode='min', \n                             save_weights_only = True)\n\nreduceLROnPlat = ReduceLROnPlateau(monitor='val_loss', \n                                   factor=0.1, \n                                   patience=3, \n                                   verbose=1, \n                                   mode='auto', \n                                   epsilon=0.0001)\n\nearly = EarlyStopping(monitor=\"val_loss\", \n                      mode=\"min\", \n                      patience=6)\ncallbacks_list = [checkpoint, early, reduceLROnPlat]",
      "execution_count": 45,
      "outputs": [
        {
          "output_type": "stream",
          "text": "/opt/conda/lib/python3.6/site-packages/Keras-2.2.4-py3.6.egg/keras/callbacks.py:1062: UserWarning: `epsilon` argument is deprecated and will be removed, use `min_delta` instead.\n",
          "name": "stderr"
        }
      ]
    },
    {
      "metadata": {
        "trusted": true,
        "_uuid": "02fac5ba53d945f3c5419757b8d0ca9c0e3b3a27"
      },
      "cell_type": "code",
      "source": "epochs = 20\nbatch_size = 16",
      "execution_count": 46,
      "outputs": []
    },
    {
      "metadata": {
        "trusted": true,
        "_uuid": "5ed24665a8d9ec4d7e69c29f01fbed30edf16d0a"
      },
      "cell_type": "code",
      "source": "images_train, images_test, labels_train, labels_test = train_test_split(images, labels, test_size=0.2)",
      "execution_count": 47,
      "outputs": []
    },
    {
      "metadata": {
        "trusted": true,
        "_uuid": "0e46fe0fc0a619d56e72f005384b0c35d1b99166"
      },
      "cell_type": "code",
      "source": "model.compile(loss=[fl],\n            optimizer=Adam(lr=1e-4),\n            metrics=[f1])",
      "execution_count": 48,
      "outputs": []
    },
    {
      "metadata": {
        "trusted": true,
        "_uuid": "dd5620bad254544175cbc8093fe1272b6cc70444"
      },
      "cell_type": "code",
      "source": "model.fit(images_train, \n          labels_train, \n          batch_size, \n          epochs, \n          callbacks=callbacks_list, \n          validation_data=(images_test, labels_test))",
      "execution_count": null,
      "outputs": []
    },
    {
      "metadata": {
        "trusted": false,
        "_uuid": "789b88654b0213f924a6417054495b3aedded653"
      },
      "cell_type": "code",
      "source": "",
      "execution_count": null,
      "outputs": []
    }
  ],
  "metadata": {
    "kernelspec": {
      "display_name": "Python 3",
      "language": "python",
      "name": "python3"
    },
    "language_info": {
      "name": "python",
      "version": "3.6.6",
      "mimetype": "text/x-python",
      "codemirror_mode": {
        "name": "ipython",
        "version": 3
      },
      "pygments_lexer": "ipython3",
      "nbconvert_exporter": "python",
      "file_extension": ".py"
    }
  },
  "nbformat": 4,
  "nbformat_minor": 1
}